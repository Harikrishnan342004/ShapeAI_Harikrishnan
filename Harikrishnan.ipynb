{
  "nbformat": 4,
  "nbformat_minor": 0,
  "metadata": {
    "colab": {
      "name": "Harikrishnan.ipynb",
      "provenance": []
    },
    "kernelspec": {
      "name": "python3",
      "display_name": "Python 3"
    },
    "language_info": {
      "name": "python"
    }
  },
  "cells": [
    {
      "cell_type": "code",
      "metadata": {
        "id": "U8_QoYieW8WG"
      },
      "source": [
        "print(\" WELCOME TO  HARI CALCULATOR \")\n",
        "print(\"select your oprator\")\n",
        "\n",
        "condition1 = \"+\"\n",
        "print(condition1)\n",
        "\n",
        "condition2 = \"-\"\n",
        "print(condition2)\n",
        "\n",
        "condition3 = \"*\"\n",
        "print(condition3)\n",
        "\n",
        "condition4 = \"/\"\n",
        "print(condition4)\n",
        "\n",
        "condition5 = \"**\"\n",
        "print(condition5)\n",
        "\n",
        "\n",
        "choice = input(\"Enter your oprator (+,-,*,/,**):\")\n",
        "\n",
        "if  choice== \"+\" :\n",
        "    x = int(input( \" Enter a number=\"))\n",
        "    y = int(input( \" Enter a second number=\"))\n",
        "    print(x+y)\n",
        "    \n",
        "\n",
        "elif choice== \"-\" :\n",
        "    x = int(input( \" Enter a number=\"))\n",
        "    y = int(input( \" Enter a second number=\"))\n",
        "    print(x-y)\n",
        "\n",
        "elif choice == \"*\" :\n",
        "     x = int(input( \" Enter a first number=\"))\n",
        "     y = int(input( \" Enter a second number=\"))\n",
        "     print(x*y)\n",
        "      \n",
        "elif choice== \"/\":\n",
        "      x = int(input( \" number=\"))\n",
        "      y = int(input( \" number is divided by=\"))\n",
        "      print(x/y)\n",
        "\n",
        "else :\n",
        "      x = int(input( \" Enter a number=\"))\n",
        "      y = int(input( \" Enter a Exponent number=\"))\n",
        "      print(x**y)\n",
        "\n"
      ],
      "execution_count": null,
      "outputs": []
    }
  ]
}